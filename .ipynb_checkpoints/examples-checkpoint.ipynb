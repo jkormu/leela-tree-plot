{
 "cells": [
  {
   "cell_type": "markdown",
   "metadata": {},
   "source": [
    "<h1> Tips: </h1>\n",
    "- For large searches set show_miniboard = False for smaller file size and faster loading <br/>\n",
    "- The tool is suited only for small searches (less than 10k nodes). Plot updates with the slider slows down as the plot size  increases and becomes eventually unusable <br/>\n",
    "- The size of html files is larger than one would expect due to repeated data that is difficult to optimize using Plotly (plotting tool used). Compression works very well and results in over 20 times smaller file sizes. So compress before sharing or archiving! <br/>\n",
    "- Making the comparison of graphs meaningful, use deterministic search parameters and disable smart pruning in shared parameters: <br/>\n",
    "                   ['--smart-pruning-factor=0.0',\n",
    "                    '--threads=1',\n",
    "                    '--minibatch-size=1',\n",
    "                    '--max-collision-events=1',\n",
    "                    '--max-collision-visits=1']"
   ]
  },
  {
   "cell_type": "markdown",
   "metadata": {},
   "source": [
    "<h1> Example 1: Compare paramater values</h1>"
   ]
  },
  {
   "cell_type": "code",
   "execution_count": null,
   "metadata": {},
   "outputs": [],
   "source": [
    "from plottools import *\n",
    "\n",
    "show_miniboard = True #show board position when hovering over node\n",
    "use_online_font = True #try False but if the miniboard alignment is bugged\n",
    "                       #then set True to enable loading of suitable font\n",
    "active = 0 #first plot is active when the html plot is loaded\n",
    "init_moves = [] #list of moves or fen as a string to set the position\n",
    "\n",
    "#net or list of nets\n",
    "nets = '/path/to/weights_run1_42700.pb.gz'\n",
    "#lc0 exe or list of exes able to save \"tree.gml\" file at the end of search (Non-standard)\n",
    "exes = '/path/to/lc0'\n",
    "\n",
    "#common parameters for each search\n",
    "shared_params = ['--smart-pruning-factor=0.0',\n",
    "                    '--threads=1',\n",
    "                    '--minibatch-size=1',\n",
    "                    '--max-collision-events=1',\n",
    "                    '--max-collision-visits=1',\n",
    "                    '--backend=cudnn-fp16']\n",
    "\n",
    "params = ['--cpuct=3.0',\n",
    "          '--cpuct=2.0',\n",
    "          '--cpuct=1.0']\n",
    "\n",
    "#for multiple-parameters use list of lists:\n",
    "#params = [['--cpuct=3.0', '--fpu-value=2.0'],\n",
    "#          ['--cpuct=2.0', '--fpu-value=1.0'],\n",
    "#          ['--cpuct=1.0', '--fpu-value=0.0']]\n",
    "\n",
    "slider_labels = ['cpuct 3.0', 'cpuct 2.0', 'cpuct 1.0']\n",
    "titles = ['title 1', 'title 2', 'title 3'] #use <br> for line breaks\n",
    "\n",
    "#nodes or list of nodes\n",
    "nodes = 800\n",
    "\n",
    "#path to save the html plot\n",
    "file_name = 'example1.html'\n",
    "\n",
    "#function that runs the searches and creates a html plot\n",
    "plot_search_tree(file_name, nets, exes,\n",
    "                 shared_params, params,\n",
    "                 slider_labels, titles,\n",
    "                 nodes, init_moves,\n",
    "                 show_miniboard, active,\n",
    "                use_online_font)\n",
    "\n",
    "\n",
    "#For ugly preview in notebook, try\n",
    "#from IPython.display import IFrame\n",
    "#IFrame(src='./example1.html', width=960, height=960)"
   ]
  },
  {
   "cell_type": "markdown",
   "metadata": {},
   "source": [
    "<h1> Example 2: Compare nets</h1>"
   ]
  },
  {
   "cell_type": "code",
   "execution_count": null,
   "metadata": {},
   "outputs": [],
   "source": [
    "from plottools import *\n",
    "\n",
    "show_miniboard = True\n",
    "active = 0\n",
    "init_moves = []\n",
    "\n",
    "nets = ['/path/to/nets40T/weights_run1_42500.pb.gz',\n",
    "       '/path/to/nets40T/weights_run1_42600.pb.gz',\n",
    "       '/path/to/nets40T/weights_run1_42700.pb.gz']\n",
    "\n",
    "exes = '/path/to/lc0'\n",
    "\n",
    "shared_params = ['--smart-pruning-factor=0.0',\n",
    "                    '--threads=1',\n",
    "                    '--minibatch-size=1',\n",
    "                    '--max-collision-events=1',\n",
    "                    '--max-collision-visits=1',\n",
    "                    '--backend=cudnn-fp16']\n",
    "\n",
    "params = None #alternatively params = []\n",
    "\n",
    "slider_labels = ['net1', 'net2', 'net3']\n",
    "titles = ['title 1', 'title 2', 'title 3']\n",
    "nodes = 800\n",
    "\n",
    "file_name = 'example2.html'\n",
    "\n",
    "\n",
    "plot_search_tree(file_name, nets, exes,\n",
    "                 shared_params, params,\n",
    "                 slider_labels, titles,\n",
    "                 nodes, init_moves,\n",
    "                 show_miniboard, active,\n",
    "                use_online_font)"
   ]
  },
  {
   "cell_type": "markdown",
   "metadata": {},
   "source": [
    "<h1> Example 3: Progressive search </h1>"
   ]
  },
  {
   "cell_type": "code",
   "execution_count": null,
   "metadata": {},
   "outputs": [],
   "source": [
    "from plottools import *\n",
    "\n",
    "show_miniboard = True\n",
    "active = 0\n",
    "init_moves = []\n",
    "\n",
    "nets = '/path/to/weights_run1_42700.pb.gz'\n",
    "\n",
    "exes = '/path/to/lc0'\n",
    "\n",
    "shared_params = ['--smart-pruning-factor=0.0',\n",
    "                    '--threads=1',\n",
    "                    '--minibatch-size=1',\n",
    "                    '--max-collision-events=1',\n",
    "                    '--max-collision-visits=1',\n",
    "                    '--backend=cudnn-fp16']\n",
    "\n",
    "params = None #alternatively params = []\n",
    "\n",
    "\n",
    "nodes = list(range(50,850,50))\n",
    "slider_labels = [str(n) + ' nodes' for n in nodes]\n",
    "titles = ['title for ' + str(n) + ' nodes' for n in nodes]\n",
    "\n",
    "file_name = 'example3.html'\n",
    "\n",
    "\n",
    "plot_search_tree(file_name, nets, exes,\n",
    "                 shared_params, params,\n",
    "                 slider_labels, titles,\n",
    "                 nodes, init_moves,\n",
    "                 show_miniboard, active,\n",
    "                use_online_font)"
   ]
  },
  {
   "cell_type": "markdown",
   "metadata": {},
   "source": [
    "<h1> Example 4: Search from given position  </h1>"
   ]
  },
  {
   "cell_type": "code",
   "execution_count": null,
   "metadata": {
    "scrolled": true
   },
   "outputs": [],
   "source": [
    "from plottools import *\n",
    "\n",
    "show_miniboard = True\n",
    "active = 0\n",
    "init_moves = \"q7/1p1p2b1/3P1pP1/2R2K1p/3P3k/3p2pP/p3p1P1/8 w - - 0 1\"\n",
    "#or as a string of moves:\n",
    "#init_moves = \"e2e4 e7e5 g1f3\"\n",
    "\n",
    "nets = '/path/to/weights_run1_42700.pb.gz'\n",
    "exes = '/path/to/lc0'\n",
    "\n",
    "shared_params = ['--smart-pruning-factor=0.0',\n",
    "                    '--threads=1',\n",
    "                    '--minibatch-size=1',\n",
    "                    '--max-collision-events=1',\n",
    "                    '--max-collision-visits=1',\n",
    "                    '--backend=cudnn-fp16']\n",
    "\n",
    "params = ['--cpuct=3.0',\n",
    "          '--cpuct=2.0',\n",
    "          '--cpuct=1.0']\n",
    "\n",
    "slider_labels = ['cpuct 3.0', 'cpuct 2.0', 'cpuct 1.0']\n",
    "titles = ['title 1', 'title 2', 'title 3']\n",
    "nodes = 800\n",
    "\n",
    "file_name = 'example4.html'\n",
    "\n",
    "\n",
    "plot_search_tree(file_name, nets, exes,\n",
    "                 shared_params, params,\n",
    "                 slider_labels, titles,\n",
    "                 nodes, init_moves,\n",
    "                 show_miniboard, active,\n",
    "                use_online_font)"
   ]
  }
 ],
 "metadata": {
  "kernelspec": {
   "display_name": "Python 3",
   "language": "python",
   "name": "python3"
  },
  "language_info": {
   "codemirror_mode": {
    "name": "ipython",
    "version": 3
   },
   "file_extension": ".py",
   "mimetype": "text/x-python",
   "name": "python",
   "nbconvert_exporter": "python",
   "pygments_lexer": "ipython3",
   "version": "3.7.4"
  }
 },
 "nbformat": 4,
 "nbformat_minor": 2
}
